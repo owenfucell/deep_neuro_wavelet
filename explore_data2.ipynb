{
 "cells": [
  {
   "cell_type": "code",
   "execution_count": null,
   "metadata": {},
   "outputs": [],
   "source": [
    "import lib.matnpy.matnpyio as io"
   ]
  },
  {
   "cell_type": "code",
   "execution_count": null,
   "metadata": {},
   "outputs": [],
   "source": [
    "import collections\n",
    "import os\n",
    "from collections import defaultdict\n",
    "import matplotlib.pyplot as plt"
   ]
  },
  {
   "cell_type": "code",
   "execution_count": null,
   "metadata": {},
   "outputs": [],
   "source": [
    "import numpy as np\n",
    "import pandas as pd"
   ]
  },
  {
   "cell_type": "code",
   "execution_count": null,
   "metadata": {},
   "outputs": [],
   "source": [
    "sess_no = '141014'\n",
    "raw_path = '/media/rudy/disk2/lucy/'"
   ]
  },
  {
   "cell_type": "code",
   "execution_count": null,
   "metadata": {},
   "outputs": [],
   "source": [
    "tinfo_path = raw_path + sess_no + '/session01/trial_info.mat' \n",
    "rinfo_path = raw_path + sess_no + '/session01/recording_info.mat' "
   ]
  },
  {
   "cell_type": "code",
   "execution_count": null,
   "metadata": {},
   "outputs": [],
   "source": [
    "dico_area_to_cortex = io.get_dico_area_to_cortex()"
   ]
  },
  {
   "cell_type": "code",
   "execution_count": null,
   "metadata": {},
   "outputs": [],
   "source": [
    "session = os.listdir(raw_path)\n",
    "session.remove('unique_recordings.mat')\n",
    "session = sorted(session)\n",
    "print(session)"
   ]
  },
  {
   "cell_type": "code",
   "execution_count": null,
   "metadata": {},
   "outputs": [],
   "source": [
    "dico_number_of_electrode = defaultdict(dict) # dict[sess_no][cortex] = number of electrode in the cortex for this sess\n",
    "\n",
    "for sess_no in session : \n",
    "    tinfo_path = raw_path + sess_no + '/session01/trial_info.mat' \n",
    "    rinfo_path = raw_path + sess_no + '/session01/recording_info.mat' \n",
    "    area_names = io.get_area_names(rinfo_path)\n",
    "    \n",
    "    # c[area] = number of electrode in the area\n",
    "    c = collections.Counter(area_names)\n",
    "    \n",
    "    \n",
    "    target_dict = defaultdict(dict) # [cortex][area] = number of electrode\n",
    "    for area in c :    \n",
    "        target_dict[ dico_area_to_cortex[area] ][area] = c[area]\n",
    "        \n",
    "    for key in target_dict.keys():\n",
    "        dico_number_of_electrode[key][sess_no] = sum(target_dict[key].values() )\n",
    "        \n",
    "        \n",
    "        \n",
    "        "
   ]
  },
  {
   "cell_type": "code",
   "execution_count": null,
   "metadata": {},
   "outputs": [],
   "source": [
    "dico_number_of_electrode"
   ]
  },
  {
   "cell_type": "code",
   "execution_count": null,
   "metadata": {},
   "outputs": [],
   "source": [
    "dico_number_of_areas = defaultdict(dict) # dict[cortex][sess_no] = number of electrode in the cortex for this sess\n",
    "\n",
    "for sess_no in session : \n",
    "    tinfo_path = raw_path + sess_no + '/session01/trial_info.mat' \n",
    "    rinfo_path = raw_path + sess_no + '/session01/recording_info.mat' \n",
    "    area_names = io.get_area_names(rinfo_path)\n",
    "    \n",
    "    # c[area] = number of electrode in the area\n",
    "    c = collections.Counter(area_names)\n",
    "    \n",
    "    \n",
    "    target_dict = defaultdict(dict) # [cortex][area] = number of electrode\n",
    "    for area in c :    \n",
    "        target_dict[ dico_area_to_cortex[area] ][area] = c[area]\n",
    "        \n",
    "    for key in target_dict.keys():\n",
    "        dico_number_of_areas[key][sess_no] = len((target_dict[key].values() ) )"
   ]
  },
  {
   "cell_type": "code",
   "execution_count": null,
   "metadata": {},
   "outputs": [],
   "source": [
    "dico_number_of_areas"
   ]
  },
  {
   "cell_type": "markdown",
   "metadata": {},
   "source": [
    "# Number of electrode"
   ]
  },
  {
   "cell_type": "code",
   "execution_count": null,
   "metadata": {},
   "outputs": [],
   "source": [
    "# Number of electrode\n",
    "Visual = np.array( [dico_number_of_electrode['Visual'].get(sess_no, 0) for sess_no in session ])\n",
    "Prefrontal = np.array( [dico_number_of_electrode['Prefrontal'].get(sess_no, 0) for sess_no in session ])\n",
    "Parietal = np.array( [dico_number_of_electrode['Parietal'].get(sess_no, 0) for sess_no in session ])\n",
    "Motor = np.array( [dico_number_of_electrode['Motor'].get(sess_no, 0) for sess_no in session ])\n",
    "Somatosensory = np.array( [dico_number_of_electrode['Somatosensory'].get(sess_no, 0) for sess_no in session ])\n",
    "\n",
    "\n",
    "width = 0.8\n",
    "ind = np.arange(len(Visual))\n",
    "p1 = plt.bar(ind,Visual, width, color ='green')\n",
    "p2 = plt.bar(ind, Prefrontal, width, bottom=Visual, color='blue')\n",
    "p3 = plt.bar(ind, Parietal, width, bottom=Visual+Prefrontal, color='cyan')\n",
    "p4 = plt.bar(ind, Motor, width, bottom=Visual+Prefrontal+Parietal, color = 'red')\n",
    "p5 = plt.bar(ind, Somatosensory, width, bottom=Visual+Prefrontal+Parietal+Motor, color ='purple')\n",
    "\n",
    "plt.ylabel('Number of electrode')\n",
    "plt.xlabel('session')\n",
    "#plt.yticks(np.arange(0, 10))\n",
    "plt.legend((p1[0], p2[0], p3[0], p4[0],p5[0]), \n",
    "           ('Visual', 'Prefrontal', 'Parietal', 'Motor', 'Somatosensory') )\n",
    "#            color = ['green', 'blue', 'cyan','red','purple'])\n",
    "\n",
    "plt.show()\n",
    "\n"
   ]
  },
  {
   "cell_type": "markdown",
   "metadata": {},
   "source": [
    "# Number of areas"
   ]
  },
  {
   "cell_type": "code",
   "execution_count": null,
   "metadata": {},
   "outputs": [],
   "source": [
    "# Number of areas\n",
    "Visual = np.array( [dico_number_of_areas['Visual'].get(sess_no, 0) for sess_no in session ])\n",
    "Prefrontal = np.array( [dico_number_of_areas['Prefrontal'].get(sess_no, 0) for sess_no in session ])\n",
    "Parietal = np.array( [dico_number_of_areas['Parietal'].get(sess_no, 0) for sess_no in session ])\n",
    "Motor = np.array( [dico_number_of_areas['Motor'].get(sess_no, 0) for sess_no in session ])\n",
    "Somatosensory = np.array( [dico_number_of_areas['Somatosensory'].get(sess_no, 0) for sess_no in session ])\n",
    "\n",
    "\n",
    "width = 0.8\n",
    "ind = np.arange(len(Visual))\n",
    "p1 = plt.bar(ind,Visual, width, color ='green')\n",
    "p2 = plt.bar(ind, Prefrontal, width, bottom=Visual, color='blue')\n",
    "p3 = plt.bar(ind, Parietal, width, bottom=Visual+Prefrontal, color='cyan')\n",
    "p4 = plt.bar(ind, Motor, width, bottom=Visual+Prefrontal+Parietal, color = 'red')\n",
    "p5 = plt.bar(ind, Somatosensory, width, bottom=Visual+Prefrontal+Parietal+Motor, color ='purple')\n",
    "\n",
    "plt.ylabel('Number of areas')\n",
    "plt.xlabel('session')\n",
    "#plt.yticks(np.arange(0, 10))\n",
    "plt.legend((p1[0], p2[0], p3[0], p4[0],p5[0]), \n",
    "           ('Visual', 'Prefrontal', 'Parietal', 'Motor', 'Somatosensory') )\n",
    "#            color = ['green', 'blue', 'cyan','red','purple'])\n",
    "\n",
    "plt.show()\n",
    "\n"
   ]
  },
  {
   "cell_type": "markdown",
   "metadata": {},
   "source": [
    "# Number of electrode by areas"
   ]
  },
  {
   "cell_type": "code",
   "execution_count": null,
   "metadata": {},
   "outputs": [],
   "source": [
    "dico_area_to_cortex = io.get_dico_area_to_cortex()\n",
    "\n",
    "dico_color = {}\n",
    "\n",
    "dico_color['Prefrontal'] = 'blue'\n",
    "dico_color['Parietal'] = 'cyan'\n",
    "dico_color['Visual'] = 'green'\n",
    "dico_color['Motor'] = 'red'\n",
    "dico_color['Somatosensory'] = 'purple' \n",
    "\n",
    "dico_color['Auditory'] = 'brown'\n",
    "dico_color['Subcortical'] = 'yellow'\n",
    "dico_color['Temporal'] = 'orange'\n",
    "\n",
    "columns_names = ['sess_no', 'area', 'count', 'cortex', 'color_code']\n",
    "data = []\n",
    "all_areas = dico_area_to_cortex.keys()\n",
    "for sess_no in session :\n",
    "    rinfo_path = raw_path + sess_no + '/session01/recording_info.mat' \n",
    "    area_names = io.get_area_names(rinfo_path)\n",
    "    counter=collections.Counter(area_names)\n",
    "    for area in all_areas:\n",
    "        if not area in counter :\n",
    "            counter[area] = 0\n",
    "    \n",
    "    for area in counter:\n",
    "        \n",
    "        data.append( [sess_no, area, counter[area], dico_area_to_cortex[area], dico_color[dico_area_to_cortex[area] ] ] )\n",
    "        \n",
    "data = pd.DataFrame(data, columns=columns_names)"
   ]
  },
  {
   "cell_type": "code",
   "execution_count": null,
   "metadata": {},
   "outputs": [],
   "source": [
    "cortex = np.unique( data.cortex)\n",
    "print(cortex)\n",
    "all_areas = [ area for area in dico_area_to_cortex.keys() if dico_area_to_cortex[area] in cortex ]\n",
    "\n",
    "for sess_no in session :\n",
    "    # plot count of each electrode\n",
    "    plt.figure(figsize=(15,5))  \n",
    "#     grid = plt.GridSpec(1, 5, wspace=0.4, hspace=0.3)\n",
    "#     plt.subplot(grid[0, :3])\n",
    "    for c in cortex:\n",
    "        curr_data = data[ (data.sess_no == sess_no) & (data.cortex == c)]\n",
    "        area = curr_data['area']\n",
    "        count = curr_data['count']\n",
    "        color_code = curr_data['color_code']\n",
    "        \n",
    "        plt.bar(area, count, color=color_code)\n",
    "        \n",
    "    plt.legend(cortex)\n",
    "    plt.title('session ' + sess_no)\n",
    "    plt.xticks(rotation=90)\n",
    "    \n",
    "#     # plot count of each cortex    \n",
    "#     plt.subplot(grid[0, 3:5])\n",
    "    \n",
    "#     for c in cortex :\n",
    "#         curr_data = data[ (data.sess_no == sess_no) & (data.cortex == c)]\n",
    "#         count = np.sum(curr_data['count'].values)\n",
    "#         color_code = curr_data['color_code'].values[0]\n",
    "        \n",
    "#         plt.bar(c, count, color=color_code)\n",
    "\n",
    "    \n",
    "#     total = np.sum(data[ (data.sess_no == sess_no)]['count'].values )\n",
    "#     plt.title('Total electrode = '+str(total) )\n",
    "#     plt.xticks(rotation=45)\n",
    "        \n",
    "    \n",
    "    plt.show()\n",
    "        "
   ]
  }
 ],
 "metadata": {
  "kernelspec": {
   "display_name": "Python 3",
   "language": "python",
   "name": "python3"
  },
  "language_info": {
   "codemirror_mode": {
    "name": "ipython",
    "version": 3
   },
   "file_extension": ".py",
   "mimetype": "text/x-python",
   "name": "python",
   "nbconvert_exporter": "python",
   "pygments_lexer": "ipython3",
   "version": "3.6.5"
  }
 },
 "nbformat": 4,
 "nbformat_minor": 2
}
