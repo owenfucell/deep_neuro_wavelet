{
 "cells": [
  {
   "cell_type": "code",
   "execution_count": null,
   "metadata": {},
   "outputs": [],
   "source": [
    "import lib.matnpy.matnpy as matnpy\n",
    "import lib.matnpy.matnpyio as io\n",
    "import lib.matnpy.preprocess as pp\n",
    "import matplotlib.pyplot as plt"
   ]
  },
  {
   "cell_type": "code",
   "execution_count": null,
   "metadata": {},
   "outputs": [],
   "source": [
    "from scipy import signal\n",
    "import numpy as np\n",
    "import scipy.fftpack"
   ]
  },
  {
   "cell_type": "code",
   "execution_count": null,
   "metadata": {},
   "outputs": [],
   "source": [
    "import os"
   ]
  },
  {
   "cell_type": "code",
   "execution_count": null,
   "metadata": {},
   "outputs": [],
   "source": [
    "def get_cut_from_raw(sess_no, raw_path, align_on, from_time, to_time) :\n",
    "    \"\"\"Gets raw data and preprocess them.\n",
    "    \n",
    "    Args:\n",
    "        sess_no: A str. num of the session\n",
    "        raw_path: A str. Path to the trial_info file.\n",
    "        align_on: A str. One of 'sample' , 'match'.\n",
    "        from_time : A float. in ms\n",
    "        to_time :  A float. in ms. cuts the trial between from_time and to_time. 0 correspond at the onset time of align_on.\n",
    "        \n",
    "        \n",
    "    Returns:\n",
    "        Ndarray of filtered data. \n",
    "    \"\"\"\n",
    "    \n",
    "    #params\n",
    "    sess = '01'\n",
    "       \n",
    "    trial_length = abs(from_time - to_time)\n",
    "\n",
    "    # Paths\n",
    "    #raw_path = base_path + 'data/raw/' + sess_no + '/session' + sess + '/'\n",
    "    rinfo_path = raw_path + 'recording_info.mat'\n",
    "    tinfo_path = raw_path + 'trial_info.mat'\n",
    "\n",
    "    # Define and loop over intervals\n",
    "    \n",
    "    srate = io.get_sfreq(rinfo_path) # = 1 000\n",
    "    n_trials = io.get_number_of_trials(tinfo_path) \n",
    "    last_trial = int(max(io.get_trial_ids(raw_path)))\n",
    "    n_chans = io.get_number_of_channels(rinfo_path)\n",
    "    channels = [ch for ch in range(n_chans)]\n",
    "\n",
    "    # Pre-process data\n",
    "    filtered = np.empty([n_trials,\n",
    "                        len(channels),\n",
    "                        int(trial_length * srate/1000)])\n",
    "\n",
    "    trial_counter = 0; counter = 0\n",
    "    while trial_counter < last_trial:\n",
    "        n_zeros = 4-len(str(trial_counter+1))\n",
    "        trial_str = '0' * n_zeros + str(trial_counter+1)  # fills leading 0s\n",
    "        if sess == '01' :\n",
    "            file_in = sess_no + '01.' + trial_str + '.mat'\n",
    "        else :\n",
    "            file_in = sess_no + '02.' + trial_str + '.mat'\n",
    "            \n",
    "        if align_on == 'sample' :        \n",
    "            onset = io.get_sample_on(tinfo_path)[trial_counter].item()\n",
    "        elif align_on == 'match' :\n",
    "            onset = io.get_match_on(tinfo_path)[trial_counter].item()\n",
    "        else :\n",
    "            print(\"Petit problème avec align_on : 'sample' ou 'match' \")\n",
    "            \n",
    "\n",
    "        \n",
    "        if np.isnan(onset):  # drop trials for which there is no onset info\n",
    "            print('No onset for ' + file_in)\n",
    "            trial_counter += 1\n",
    "            if trial_counter == last_trial:\n",
    "                break\n",
    "            else:\n",
    "                counter += 1\n",
    "                continue\n",
    "        print(file_in)\n",
    "        try:\n",
    "            raw = io.get_data(raw_path + file_in)\n",
    "            temp = pp.strip_data(raw,\n",
    "                                rinfo_path,\n",
    "                                onset,\n",
    "                                start=from_time,\n",
    "                                length=trial_length)\n",
    "            if temp.shape[1] == trial_length:  # drop trials shorter than length\n",
    "                filtered[counter] = temp\n",
    "            counter += 1\n",
    "        except IOError:\n",
    "            print('No file ' + file_in)\n",
    "        trial_counter += 1\n",
    "\n",
    "    # Return data\n",
    "\n",
    "    filtered = np.array(filtered)\n",
    "    return(filtered)"
   ]
  },
  {
   "cell_type": "markdown",
   "metadata": {},
   "source": [
    "# raw path"
   ]
  },
  {
   "cell_type": "code",
   "execution_count": null,
   "metadata": {},
   "outputs": [],
   "source": [
    "raw_path = '/media/rudy/disk2/lucy/' \n",
    "#raw_path = '/home/rudy/ethyl/'"
   ]
  },
  {
   "cell_type": "code",
   "execution_count": null,
   "metadata": {},
   "outputs": [],
   "source": [
    "# for lucy\n",
    "session = os.listdir(raw_path)\n",
    "session.remove('unique_recordings.mat')\n",
    "print(session)\n",
    "\n",
    "# for ethyl\n",
    "# session = os.listdir(raw_path)\n",
    "# session.remove('._.DS_Store')"
   ]
  },
  {
   "cell_type": "markdown",
   "metadata": {},
   "source": [
    "# raw signal, STFT, TF"
   ]
  },
  {
   "cell_type": "code",
   "execution_count": null,
   "metadata": {},
   "outputs": [],
   "source": [
    "###################################################\n",
    "# \n",
    "###################################################\n",
    "sess_no  = '150128'#session[0]\n",
    "n_trial_raw = 1 # start at 1\n",
    "n_elec_raw = 0 \n",
    "\n",
    "print(sess_no, n_trial_raw, n_elec_raw)\n",
    "###################################################\n",
    "# path\n",
    "raw_path_sess_no = raw_path + sess_no +'/session01/' \n",
    "rinfo_path = raw_path_sess_no + 'recording_info.mat'\n",
    "tinfo_path = raw_path_sess_no + 'trial_info.mat'\n",
    "\n",
    "###################################################\n",
    "#                 LOAD DATA                       #\n",
    "###################################################\n",
    "\n",
    "n_zeros = 4-len(str(n_trial_raw))\n",
    "trial_str = '0' * n_zeros + str(n_trial_raw)  # fills leading 0s\n",
    "file_in = sess_no + '01.' + trial_str + '.mat'\n",
    "\n",
    "Y_raw = io.get_data(raw_path_sess_no + file_in) # shape = (n_chans, time)\n",
    "# select channel\n",
    "y_raw = Y_raw[n_elec_raw, :]\n",
    "\n",
    "\n",
    "# get sample on /match on\n",
    "time_sample_on = io.get_sample_on(tinfo_path)[n_trial_raw]\n",
    "time_match_on = io.get_match_on(tinfo_path)[n_trial_raw]\n",
    "# get ssampling rates\n",
    "fs = io.get_sfreq(rinfo_path)\n",
    "\n",
    "areas = io.get_area_names(rinfo_path)\n",
    "\n",
    "###################################################\n",
    "#                print something                  #\n",
    "###################################################\n",
    "\n",
    "print('session : ', sess_no)\n",
    "print('trial   : ', n_trial_raw)\n",
    "print('n_chans : ', n_elec_raw,'('+ areas[n_elec_raw]+')')\n",
    "\n",
    "###################################################\n",
    "#       plot raw signal and  STFT                 #\n",
    "###################################################\n",
    "# SUBPLOT\n",
    "fig, axarr = plt.subplots(3, sharex=True, figsize=(15,10))\n",
    "\n",
    "# plot raw signal\n",
    "axarr[0].plot(y_raw)\n",
    "\n",
    "# set scientific format for y axis\n",
    "axarr[0].ticklabel_format(axis='y',style='sci', scilimits=(0,0))\n",
    "\n",
    "# set title\n",
    "#axarr[0].set_ylabel('raw signal')\n",
    "axarr[0].set_title('raw signal')\n",
    "\n",
    "# set sample on/off, match on \n",
    "axarr[0].axvline(x= time_sample_on, color='r',label='sample on ')\n",
    "axarr[0].axvline(x= time_sample_on +500, color='r', linestyle='--', label='sample off') #sample off\n",
    "axarr[0].axvline(x= time_match_on, color='green', label='match on ')\n",
    "axarr[0].legend()\n",
    "\n",
    "\n",
    "\n",
    "# Time-frequency transform (Spectogram)\n",
    "\n",
    "window = ('tukey', 0.25)\n",
    "nperseg = int(50)\n",
    "\n",
    "f, t, Sxx = signal.spectrogram(y_raw, fs, window=window, nperseg=nperseg)\n",
    "axarr[1].imshow(Sxx, extent=[0, len(y_raw), 0, max(f)], aspect='auto', origin='lower' )\n",
    "\n",
    "axarr[1].set_ylabel('Frequency [Hz]')\n",
    "axarr[1].set_xlabel('Time [ms]')\n",
    "axarr[1].set_title('time-frequency Fourier Transform')\n",
    "\n",
    "# set sample on/off, match on \n",
    "axarr[1].axvline(x= time_sample_on, color='r',label='sample on ')\n",
    "axarr[1].axvline(x= time_sample_on +500, color='r', linestyle='--', label='sample off') #sample off\n",
    "axarr[1].axvline(x= time_match_on, color='green', label='match on ')\n",
    "axarr[1].legend()\n",
    "\n",
    "#plot log STFT\n",
    "axarr[2].imshow(np.log10(Sxx), extent=[0, len(y_raw), 0, max(f)], aspect='auto', origin='lower' )\n",
    "\n",
    "axarr[2].set_ylabel('Frequency [Hz]')\n",
    "axarr[2].set_xlabel('Time [ms]')\n",
    "axarr[2].set_title('time-frequency Fourier Transform')\n",
    "\n",
    "# set sample on/off, match on \n",
    "axarr[2].axvline(x= time_sample_on, color='r',label='sample on ')\n",
    "axarr[2].axvline(x= time_sample_on +500, color='r', linestyle='--', label='sample off') #sample off\n",
    "axarr[2].axvline(x= time_match_on, color='green', label='match on ')\n",
    "axarr[2].legend()\n",
    "\n",
    "\n",
    "plt.show()\n",
    "\n",
    "###################################################\n",
    "#            PLOT FOURIER TRANSFORM               #\n",
    "###################################################\n",
    "\n",
    "# subplot\n",
    "fig, axarr = plt.subplots(2, sharex=True, figsize=(10,8))\n",
    "\n",
    "# Number of samplepoints\n",
    "N = len(y_raw)\n",
    "# sample spacing\n",
    "T = 1.0 / float(fs)\n",
    "\n",
    "# fourier transform\n",
    "xf = np.linspace(0.0, 1.0/(2.0*T), int(N/2))\n",
    "yf = scipy.fftpack.fft(y_raw)\n",
    "\n",
    "# plot it\n",
    "axarr[0].plot(xf, 2.0/N * np.abs(yf[:int(N//2)]))\n",
    "\n",
    "# scienctic format\n",
    "axarr[0].ticklabel_format(axis='y',style='sci', scilimits=(0,0))\n",
    "\n",
    "# set title and label\n",
    "axarr[0].set_title('Fourier transform')\n",
    "axarr[0].set_xlabel('Frequency [Hz]')\n",
    "\n",
    "# plot with log\n",
    "axarr[1].plot(xf, np.log(2.0/N) + np.log(np.abs(yf[:int(N//2)])))\n",
    "\n",
    "plt.title('log Fourier transform')\n",
    "plt.xlabel('Frequency [Hz]')\n",
    "\n",
    "plt.show()\n"
   ]
  },
  {
   "cell_type": "markdown",
   "metadata": {},
   "source": [
    "# filtered signal + raw signal"
   ]
  },
  {
   "cell_type": "code",
   "execution_count": null,
   "metadata": {},
   "outputs": [],
   "source": [
    "# LOAD RAW DATA\n",
    "sess_no  = session[0]\n",
    "n_trial_raw = 1 # start at 1\n",
    "n_elec_raw = 0 \n",
    "\n",
    "# path\n",
    "raw_path_sess_no = raw_path + sess_no +'/session01/' \n",
    "rinfo_path = raw_path_sess_no + 'recording_info.mat'\n",
    "tinfo_path = raw_path_sess_no + 'trial_info.mat'\n",
    "\n",
    "# sample on /match on\n",
    "time_sample_on = io.get_sample_on(tinfo_path)[n_trial_raw]\n",
    "time_match_on = io.get_match_on(tinfo_path)[n_trial_raw]\n",
    "# samples rates\n",
    "srate = io.get_sfreq(rinfo_path)\n",
    "# area names\n",
    "areas = io.get_area_names(rinfo_path)\n",
    "\n",
    "\n",
    "print('session : ', sess_no)\n",
    "print('trial   : ', n_trial_raw)\n",
    "print('n_chans : ', n_elec_raw,'('+ areas[n_elec_raw]+')')\n",
    "\n",
    "\n",
    "\n",
    "# load data\n",
    "n_zeros = 4-len(str(n_trial_raw))\n",
    "trial_str = '0' * n_zeros + str(n_trial_raw)  # fills leading 0s\n",
    "file_in = sess_no + '01.' + trial_str + '.mat'\n",
    "\n",
    "Y_raw = io.get_data(raw_path_sess_no + file_in) # np array 62 * 5660 \n",
    "#select channel\n",
    "# areas = io.get_area_names(rinfo_path)\n",
    "y_raw = Y_raw[n_elec_raw, :]\n",
    "\n",
    "\n",
    "# PLOT SIGNAL \n",
    "#subplot, share axis, figsize\n",
    "fig, axarr = plt.subplots(6, sharex=True, figsize=(15,15))\n",
    "\n",
    "# plot raw signal\n",
    "axarr[0].plot(y_raw)\n",
    "\n",
    "# set scientific format for y axis\n",
    "axarr[0].ticklabel_format(axis='y',style='sci', scilimits=(0,0))\n",
    "\n",
    "# set title\n",
    "#axarr[0].set_ylabel('raw signal')\n",
    "axarr[0].set_title('raw signal')\n",
    "\n",
    "# set sample on/off, match on \n",
    "axarr[0].axvline(x= time_sample_on, color='r',label='sample on ')\n",
    "axarr[0].axvline(x= time_sample_on +500, color='r', linestyle='--', label='sample off') #sample off\n",
    "axarr[0].axvline(x= time_match_on, color='green', label='match on ')\n",
    "axarr[0].legend()\n",
    "\n",
    "#plt.show()\n",
    "\n",
    "count = 0\n",
    "for lowcut, highcut, order in [[4,8,3],\n",
    "                               [7,12,3],\n",
    "                               [12,30,3],\n",
    "                               [30,80,3],\n",
    "                               [80,300,3]]:\n",
    "    count+=1\n",
    "    \n",
    "    Y_raw = pp.butter_bandpass_filter(Y_raw, lowcut, highcut, srate, order=3)\n",
    "    y_raw = Y_raw[n_elec_raw, :]\n",
    "\n",
    "    axarr[count].plot(y_raw)\n",
    "    \n",
    "    axarr[count].ticklabel_format(axis='y',style='sci', scilimits=(0,0))\n",
    "    \n",
    "    axarr[count].set_title('filtered signal '+str(lowcut)+ ' - ' +str(highcut) +' Hz')\n",
    "    \n",
    "\n",
    "    axarr[count].axvline(x= time_sample_on, color='r',label='sample on ')\n",
    "    axarr[count].axvline(x= time_sample_on +500, color='r', linestyle='--', label='sample off') #sample off\n",
    "    axarr[count].axvline(x= time_match_on, color='green', label='match on ')\n",
    "    axarr[count].legend()\n",
    "\n",
    "\n",
    "fig.tight_layout()\n",
    "plt.show()\n",
    "\n"
   ]
  },
  {
   "cell_type": "markdown",
   "metadata": {},
   "source": [
    "# TF et  potenciel évoqué"
   ]
  },
  {
   "cell_type": "markdown",
   "metadata": {},
   "source": [
    "# load data"
   ]
  },
  {
   "cell_type": "code",
   "execution_count": null,
   "metadata": {},
   "outputs": [],
   "source": [
    "# sess\n",
    "sess_no = '150210' # '150128'"
   ]
  },
  {
   "cell_type": "code",
   "execution_count": null,
   "metadata": {},
   "outputs": [],
   "source": [
    "# path \n",
    "raw_path_sess_no = raw_path + sess_no +'/session01/' \n",
    "rinfo_path = raw_path_sess_no + 'recording_info.mat'\n",
    "tinfo_path = raw_path_sess_no + 'trial_info.mat'"
   ]
  },
  {
   "cell_type": "code",
   "execution_count": null,
   "metadata": {},
   "outputs": [],
   "source": [
    "align_on = 'sample'\n",
    "from_time = - 800\n",
    "to_time = 500 + 1000 + 2000"
   ]
  },
  {
   "cell_type": "code",
   "execution_count": null,
   "metadata": {
    "scrolled": true
   },
   "outputs": [],
   "source": [
    "data = get_cut_from_raw(sess_no, raw_path+sess_no+'/session01/', 'sample', from_time, to_time)"
   ]
  },
  {
   "cell_type": "code",
   "execution_count": null,
   "metadata": {},
   "outputs": [],
   "source": [
    "area_names = io.get_area_names(rinfo_path)"
   ]
  },
  {
   "cell_type": "code",
   "execution_count": null,
   "metadata": {},
   "outputs": [],
   "source": [
    "fs = io.get_sfreq(rinfo_path)"
   ]
  },
  {
   "cell_type": "code",
   "execution_count": null,
   "metadata": {},
   "outputs": [],
   "source": [
    "area_names.shape"
   ]
  },
  {
   "cell_type": "code",
   "execution_count": null,
   "metadata": {},
   "outputs": [],
   "source": [
    "data.shape"
   ]
  },
  {
   "cell_type": "markdown",
   "metadata": {},
   "source": [
    "# select channel if wanted"
   ]
  },
  {
   "cell_type": "code",
   "execution_count": null,
   "metadata": {},
   "outputs": [],
   "source": [
    "# # Select some cortex  ?\n",
    "# target_cortex = ['Visual'] # [cortex1, cortex2]\n",
    "# dico_area_to_cortex = io.get_dico_area_to_cortex()\n",
    "# ind_to_keep = []\n",
    "# for idx, area in enuemrate(area_names):\n",
    "#     if dico_area_to_cortex[area] in target_cortex :\n",
    "#         ind_to_keep.append(idx)\n",
    "        \n",
    "# data = data[:,ind_to_keep,:]\n",
    "# area_names = area_names[ind_to_keep]\n",
    "        "
   ]
  },
  {
   "cell_type": "code",
   "execution_count": null,
   "metadata": {},
   "outputs": [],
   "source": [
    "# # select some areas ?\n",
    "# target_areas = ['V1'] # [area1, area2]\n",
    "# dico_area_to_cortex = io.get_dico_area_to_cortex()\n",
    "# ind_to_keep = []\n",
    "# for idx, area in enuemrate(area_names):\n",
    "#     if area in target_areas :\n",
    "#         ind_to_keep.append(idx)\n",
    "        \n",
    "# data = data[:,ind_to_keep,:]\n",
    "# area_names = area_names[ind_to_keep]"
   ]
  },
  {
   "cell_type": "markdown",
   "metadata": {},
   "source": [
    "# some stuff"
   ]
  },
  {
   "cell_type": "code",
   "execution_count": null,
   "metadata": {},
   "outputs": [],
   "source": [
    "data.mean()"
   ]
  },
  {
   "cell_type": "code",
   "execution_count": null,
   "metadata": {},
   "outputs": [],
   "source": [
    "data.std()"
   ]
  },
  {
   "cell_type": "code",
   "execution_count": null,
   "metadata": {},
   "outputs": [],
   "source": [
    "np.sqrt((data**2).mean())"
   ]
  },
  {
   "cell_type": "code",
   "execution_count": null,
   "metadata": {},
   "outputs": [],
   "source": [
    "power_by_channel = np.sqrt(np.mean(data**2, axis=(0,2)))"
   ]
  },
  {
   "cell_type": "code",
   "execution_count": null,
   "metadata": {},
   "outputs": [],
   "source": [
    "plt.figure(figsize=(15,5))\n",
    "plt.plot( power_by_channel )\n",
    "plt.xticks(np.arange(len(area_names)), area_names, rotation='vertical')\n",
    "plt.ticklabel_format(axis='y',style='sci', scilimits=(0,0))\n",
    "plt.title('Signal power')\n",
    "plt.show()"
   ]
  },
  {
   "cell_type": "markdown",
   "metadata": {},
   "source": [
    "# mean on abs( ft )"
   ]
  },
  {
   "cell_type": "code",
   "execution_count": null,
   "metadata": {},
   "outputs": [],
   "source": [
    "# Number of samplepoints\n",
    "N = data.shape[2]\n",
    "# sample spacing\n",
    "#T = 1.0 / 1000.0\n",
    "T = 1.0 / float(fs) # fs = 1000\n",
    "\n",
    "xf = np.linspace(0.0, 1.0/(2.0*T), int(N/2))\n",
    "\n",
    "tf = []\n",
    "for n in range(data.shape[0]):\n",
    "    for j in range(data.shape[1]):\n",
    "        yf = scipy.fftpack.fft(data[n,j,:])\n",
    "        tf.append( 2.0/N * np.abs(yf[:int(N//2)] ) )\n",
    "\n",
    "tf = np.array(tf)\n",
    "\n",
    "tf = np.mean(tf, axis=0)"
   ]
  },
  {
   "cell_type": "code",
   "execution_count": null,
   "metadata": {},
   "outputs": [],
   "source": [
    "tf.shape"
   ]
  },
  {
   "cell_type": "code",
   "execution_count": null,
   "metadata": {},
   "outputs": [],
   "source": [
    "# plot fourier transform\n",
    "plt.figure(figsize=(15,5))\n",
    "plt.plot(xf, tf)\n",
    "plt.title('Fourier Transform')\n",
    "plt.xlabel(' frequency [Hz]')\n",
    "plt.ticklabel_format(axis='y',style='sci', scilimits=(0,0))\n",
    "\n",
    "plt.show()\n",
    "\n",
    "# plot some frequency band with different scale \n",
    "plt.figure(figsize=(15,5))\n",
    "\n",
    "# 0 to 50 Hz\n",
    "fmax = 50\n",
    "ind_max = int( xf.shape[0] * fmax/(fs/2) )\n",
    "plt.subplot(131)\n",
    "plt.plot(xf[:ind_max], tf[:ind_max])\n",
    "plt.ticklabel_format(axis='y',style='sci', scilimits=(0,0))\n",
    "plt.xlabel(' frequency [Hz]')\n",
    "\n",
    "# 40 to 90 Hz\n",
    "plt.subplot(132)\n",
    "fmin = 40\n",
    "fmax = 90\n",
    "ind_min = int( xf.shape[0] * fmin/(fs/2) )\n",
    "ind_max = int( xf.shape[0] * fmax/(fs/2) )\n",
    "plt.plot(xf[ind_min:ind_max], tf[ind_min:ind_max])\n",
    "plt.ticklabel_format(axis='y',style='sci', scilimits=(0,0))\n",
    "plt.xlabel(' frequency [Hz]')\n",
    "\n",
    "# 80 to 500 Hz\n",
    "plt.subplot(133)\n",
    "fmin = 80\n",
    "ind_min = int( xf.shape[0] * fmin/(fs/2) )\n",
    "plt.plot(xf[ind_min:], tf[ind_min:])\n",
    "plt.ticklabel_format(axis='y',style='sci', scilimits=(0,0))\n",
    "plt.xlabel(' frequency [Hz]')\n",
    "\n",
    "\n",
    "plt.show()"
   ]
  },
  {
   "cell_type": "markdown",
   "metadata": {},
   "source": [
    "# potenciel évoqué"
   ]
  },
  {
   "cell_type": "code",
   "execution_count": null,
   "metadata": {},
   "outputs": [],
   "source": [
    "# # filter data ?\n",
    "# lowcut, highcut = 7, 12 \n",
    "# data = pp.butter_bandpass_filter(Y_raw, lowcut, highcut, srate, order=3)"
   ]
  },
  {
   "cell_type": "code",
   "execution_count": null,
   "metadata": {},
   "outputs": [],
   "source": [
    "potenciel = np.mean(data, axis= 0)"
   ]
  },
  {
   "cell_type": "code",
   "execution_count": null,
   "metadata": {},
   "outputs": [],
   "source": [
    "potenciel.shape"
   ]
  },
  {
   "cell_type": "code",
   "execution_count": null,
   "metadata": {
    "scrolled": true
   },
   "outputs": [],
   "source": [
    "for i in range(potenciel.shape[0]):\n",
    "    plt.plot(potenciel[i,:])\n",
    "    plt.ticklabel_format(axis='y',style='sci', scilimits=(0,0))\n",
    "    plt.title(area_names[i])\n",
    "    plt.axvline(x= -from_time , color='r', label='sample on')\n",
    "    plt.axvline(x= -from_time + 500, color='r', label='sample off')\n",
    "    plt.show()"
   ]
  },
  {
   "cell_type": "code",
   "execution_count": null,
   "metadata": {},
   "outputs": [],
   "source": []
  }
 ],
 "metadata": {
  "kernelspec": {
   "display_name": "Python 3",
   "language": "python",
   "name": "python3"
  },
  "language_info": {
   "codemirror_mode": {
    "name": "ipython",
    "version": 3
   },
   "file_extension": ".py",
   "mimetype": "text/x-python",
   "name": "python",
   "nbconvert_exporter": "python",
   "pygments_lexer": "ipython3",
   "version": "3.6.5"
  }
 },
 "nbformat": 4,
 "nbformat_minor": 2
}
